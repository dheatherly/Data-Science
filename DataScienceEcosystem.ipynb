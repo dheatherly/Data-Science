{
 "cells": [
  {
   "cell_type": "markdown",
   "id": "065d83ea-a609-4e12-8ac0-045dd071a8fe",
   "metadata": {},
   "source": [
    "# Data Science Tools and Ecosystem"
   ]
  },
  {
   "cell_type": "markdown",
   "id": "e9d07ef1-ec74-415e-a69f-b1146a7bc0eb",
   "metadata": {},
   "source": [
    "In this notebook, Data Science Tools and Ecosystem are summarized."
   ]
  },
  {
   "cell_type": "markdown",
   "id": "507a9136-d385-4058-9d94-5fca74ebf4f7",
   "metadata": {},
   "source": [
    "**Objectives:**\n",
    "- List popular languages for Data Science\n",
    "- List some commonly used libraries used by Data Scientists\n",
    "- Show a few examples of evaluating arithmetic expressions"
   ]
  },
  {
   "cell_type": "markdown",
   "id": "93e55060-7dbe-4a51-8510-b0e663ceb44b",
   "metadata": {},
   "source": [
    "Some of the popular languages that Data Scientists use are:\n",
    "1. Python\n",
    "2. R\n",
    "3. SQL\n",
    "4. Scala\n",
    "5. Java\n",
    "6. C++\n",
    "7. Julia"
   ]
  },
  {
   "cell_type": "markdown",
   "id": "e1977a25-9673-486e-ba85-db7ff4f44ae4",
   "metadata": {},
   "source": [
    "Some of the commonly used libraries used by Data Scientists include:\n",
    "1. Pandas\n",
    "2. Numpy\n",
    "3. SciPy\n",
    "4. Seaborn\n",
    "5. Matplotlib\n",
    "6. Keras\n",
    "7. Tensorflow"
   ]
  },
  {
   "cell_type": "markdown",
   "id": "4d947b9d-77da-4ccb-a4d2-3c97ab031822",
   "metadata": {},
   "source": [
    "| Data Science Tools |\n",
    "|:------------------:|\n",
    "|Jupyter Notebook|\n",
    "|RStudio|\n",
    "|VS Code|\n"
   ]
  },
  {
   "cell_type": "markdown",
   "id": "74bdba17-b69a-406c-98b8-2a9282d61bdb",
   "metadata": {},
   "source": [
    "### Below are a few examples of evaluating arithmetic expressions in Python."
   ]
  },
  {
   "cell_type": "code",
   "execution_count": 2,
   "id": "535bff8a-84ac-4474-bd3a-3a75ddfdde99",
   "metadata": {},
   "outputs": [
    {
     "data": {
      "text/plain": [
       "17"
      ]
     },
     "execution_count": 2,
     "metadata": {},
     "output_type": "execute_result"
    }
   ],
   "source": [
    "(3*4)+5"
   ]
  },
  {
   "cell_type": "markdown",
   "id": "72646a4b-719b-4417-ba3a-e31637f8d069",
   "metadata": {},
   "source": [
    "This will convert 200 minutes to hours by dividing by 60."
   ]
  },
  {
   "cell_type": "code",
   "execution_count": 5,
   "id": "3a687f95-326f-4945-a413-d7ba73760a4f",
   "metadata": {},
   "outputs": [
    {
     "data": {
      "text/plain": [
       "3.3333333333333335"
      ]
     },
     "execution_count": 5,
     "metadata": {},
     "output_type": "execute_result"
    }
   ],
   "source": [
    "200 / 60"
   ]
  },
  {
   "cell_type": "markdown",
   "id": "134979a0-8cc4-4fb9-ad64-21c01dfcbf25",
   "metadata": {},
   "source": [
    "## Author\n",
    "Douglas Heatherly"
   ]
  },
  {
   "cell_type": "code",
   "execution_count": null,
   "id": "221f3dc6-bc0a-4687-87e9-395f3131b2dc",
   "metadata": {},
   "outputs": [],
   "source": []
  }
 ],
 "metadata": {
  "kernelspec": {
   "display_name": "Python 3 (ipykernel)",
   "language": "python",
   "name": "python3"
  },
  "language_info": {
   "codemirror_mode": {
    "name": "ipython",
    "version": 3
   },
   "file_extension": ".py",
   "mimetype": "text/x-python",
   "name": "python",
   "nbconvert_exporter": "python",
   "pygments_lexer": "ipython3",
   "version": "3.12.8"
  }
 },
 "nbformat": 4,
 "nbformat_minor": 5
}
